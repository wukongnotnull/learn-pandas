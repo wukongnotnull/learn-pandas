{
 "cells": [
  {
   "cell_type": "markdown",
   "metadata": {},
   "source": [
    "# 学习 Python 数据结构"
   ]
  },
  {
   "cell_type": "markdown",
   "metadata": {},
   "source": [
    "导入 pandas 第三方库"
   ]
  },
  {
   "cell_type": "code",
   "execution_count": null,
   "metadata": {},
   "outputs": [],
   "source": [
    "import pandas as pd"
   ]
  },
  {
   "cell_type": "markdown",
   "metadata": {},
   "source": [
    "## Pandas 数据结构之 DataFrame"
   ]
  },
  {
   "cell_type": "code",
   "execution_count": null,
   "metadata": {},
   "outputs": [],
   "source": []
  },
  {
   "cell_type": "markdown",
   "metadata": {},
   "source": [
    "DataFrame 是一个表格型的数据结构，它含有一组有序的列，每列可以是不同的值类型（数值、字符串、布尔型值）。\n",
    "DataFrame 既有行索引也有列索引，它可以被看做由 Series 组成的字典（共同用一个索引）。"
   ]
  },
  {
   "cell_type": "markdown",
   "metadata": {},
   "source": [
    "DataFrame 构造方法如下：\n",
    "\n",
    "pandas.DataFrame(data, index, columns, dtype, copy)\n",
    "\n",
    "参数说明：\n",
    "\n",
    "data：一组数据(ndarray、series, map, lists, dict 等类型)。\n",
    "\n",
    "index：行索引（标签）值。\n",
    "\n",
    "columns：列标签，默认为 RangeIndex (0, 1, 2, …, n) 。\n",
    "\n",
    "dtype：数据类型。\n",
    "\n",
    "copy：拷贝数据，默认为 False"
   ]
  },
  {
   "cell_type": "markdown",
   "metadata": {},
   "source": [
    "### 使用 ndarrays 创建一个 DataFrame 类型数据"
   ]
  },
  {
   "cell_type": "code",
   "execution_count": null,
   "metadata": {},
   "outputs": [],
   "source": [
    "# 创建 Series 和 DataFrame 数据结构\n",
    "data = {\n",
    "    '姓名': [3, 33, 22],\n",
    "    '年龄': [5, 55, 55],\n",
    "    '收入': [1, 2, 3],\n",
    "    '门牌号': [3, 4, 5]\n",
    "}\n",
    "my_df = pd.DataFrame(data)\n",
    "print(my_df)"
   ]
  },
  {
   "cell_type": "markdown",
   "metadata": {},
   "source": [
    "### 使用列表创建 DataFrame 类型数据"
   ]
  },
  {
   "cell_type": "code",
   "execution_count": null,
   "metadata": {},
   "outputs": [],
   "source": [
    "list_data = [[3,5,7,100],[33,55,77,11],[22,55,22,11]]\n",
    "my_df2 = pd.DataFrame(list_data,columns=['姓名','年龄','收入','门牌号'])\n",
    "my_df2"
   ]
  },
  {
   "cell_type": "markdown",
   "metadata": {},
   "source": [
    "**自定义行索引名称**"
   ]
  },
  {
   "cell_type": "code",
   "execution_count": null,
   "metadata": {},
   "outputs": [],
   "source": [
    "list_data2 = [[3,5,7,100],[33,55,77,11],[22,55,22,11]]\n",
    "my_df3 = pd.DataFrame(list_data2,index =['第一行','第二行','第三行'] ,columns=['姓名','年龄','收入','门牌号'])\n",
    "my_df3"
   ]
  },
  {
   "cell_type": "markdown",
   "metadata": {},
   "source": [
    "### 使用字典创建  DataFrame 类型数据"
   ]
  },
  {
   "cell_type": "code",
   "execution_count": null,
   "metadata": {},
   "outputs": [],
   "source": [
    "my_dict = [\n",
    "    {'姓名':3,'年龄':5,'收入':7,'门牌号':100},\n",
    "    {'姓名':33,'年龄':55,'收入':77,'门牌号':11},\n",
    "    {'姓名':22,'年龄':55,'收入':22,'门牌号':11},\n",
    "]\n",
    "my_df4 = pd.DataFrame(my_dict,index =['第一行','第二行','第三行'])\n",
    "my_df4"
   ]
  },
  {
   "cell_type": "markdown",
   "metadata": {},
   "source": [
    "## Pandas 数据结构之 Series"
   ]
  },
  {
   "cell_type": "markdown",
   "metadata": {},
   "source": [
    "Pandas Series 类似表格中的一个列（column），类似于一维数组，可以保存任何数据类型。\n",
    "\n",
    "Series 由索引（index）和列组成，函数如下：\n",
    "\n",
    "```python\n",
    "Series(data, index, dtype, name, copy)\n",
    "```\n",
    "参数说明：\n",
    "\n",
    "data：一组数据(ndarray 类型)。\n",
    "\n",
    "index：数据索引标签，如果不指定，默认从 0 开始。\n",
    "\n",
    "dtype：数据类型，默认会自己判断。\n",
    "\n",
    "name：设置名称。\n",
    "\n",
    "copy：拷贝数据，默认为 False。"
   ]
  },
  {
   "cell_type": "markdown",
   "metadata": {},
   "source": [
    "### 创建 Series 数据结构"
   ]
  },
  {
   "cell_type": "code",
   "execution_count": null,
   "metadata": {},
   "outputs": [],
   "source": [
    "my_series = pd.Series(['悟空', '唐僧', 520, 13.14])\n",
    "my_series"
   ]
  },
  {
   "cell_type": "code",
   "execution_count": null,
   "metadata": {},
   "outputs": [],
   "source": [
    "my_series2 = pd.Series([1, 2, 520, 1314])\n",
    "my_series2"
   ]
  },
  {
   "cell_type": "markdown",
   "metadata": {},
   "source": [
    "### 检查一下数据类型"
   ]
  },
  {
   "cell_type": "code",
   "execution_count": null,
   "metadata": {},
   "outputs": [],
   "source": [
    "type(my_series)"
   ]
  },
  {
   "cell_type": "markdown",
   "metadata": {},
   "source": [
    "### 自定义索引名称"
   ]
  },
  {
   "cell_type": "code",
   "execution_count": null,
   "metadata": {},
   "outputs": [],
   "source": [
    "my_series3 = pd.Series([1, 2, 520, 1314], ['a', 'b', 'c', 'd'])\n",
    "my_series3"
   ]
  },
  {
   "cell_type": "markdown",
   "metadata": {},
   "source": [
    "### 通过字典来创建 Series"
   ]
  },
  {
   "cell_type": "code",
   "execution_count": null,
   "metadata": {
    "pycharm": {
     "name": "#%%\n"
    }
   },
   "outputs": [],
   "source": [
    "dict = {'a': 1, 'b': 2, 'c': 520, 'd': 1314}\n",
    "my_series4 = pd.Series(dict)\n",
    "my_series4"
   ]
  },
  {
   "cell_type": "code",
   "execution_count": null,
   "metadata": {
    "collapsed": false,
    "jupyter": {
     "outputs_hidden": false
    },
    "pycharm": {
     "name": "#%%\n"
    }
   },
   "outputs": [],
   "source": [
    "my_series5 = pd.Series([1, 2, 3, 4,5])\n",
    "my_series5"
   ]
  },
  {
   "cell_type": "markdown",
   "metadata": {},
   "source": [
    "\n",
    "\n",
    "**如果只需要字典中的一部分数据，只需要指定需要数据的索引即可**"
   ]
  },
  {
   "cell_type": "code",
   "execution_count": null,
   "metadata": {},
   "outputs": [],
   "source": [
    "data = {'a':1,'b':2,'c':3}\n",
    "my_series6 = pd.Series(data,['c','b'])\n",
    "my_series6"
   ]
  },
  {
   "cell_type": "markdown",
   "metadata": {},
   "source": [
    "设置 Series 名称参数"
   ]
  },
  {
   "cell_type": "code",
   "execution_count": null,
   "metadata": {},
   "outputs": [],
   "source": [
    "my_series7 = pd.Series([1,2,3,4],name='wukong_series')\n",
    "my_series7"
   ]
  },
  {
   "cell_type": "markdown",
   "metadata": {},
   "source": [
    "# 练习题"
   ]
  },
  {
   "cell_type": "code",
   "execution_count": null,
   "metadata": {},
   "outputs": [],
   "source": [
    "1 创建一个 Series 数据类型： 包含用户名、密码、年龄、生日、家庭地址信息。\n",
    "2 创建一个 DataFrame 数据类型： 包含账单编号、账单类目、账单名称、单价、数量信息。"
   ]
  }
 ],
 "metadata": {
  "kernelspec": {
   "display_name": "Python 3 (ipykernel)",
   "language": "python",
   "name": "python3"
  },
  "language_info": {
   "codemirror_mode": {
    "name": "ipython",
    "version": 3
   },
   "file_extension": ".py",
   "mimetype": "text/x-python",
   "name": "python",
   "nbconvert_exporter": "python",
   "pygments_lexer": "ipython3",
   "version": "3.11.2"
  }
 },
 "nbformat": 4,
 "nbformat_minor": 4
}